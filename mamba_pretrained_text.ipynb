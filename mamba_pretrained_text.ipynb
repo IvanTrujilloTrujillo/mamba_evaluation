{
 "cells": [
  {
   "cell_type": "code",
   "execution_count": 1,
   "metadata": {},
   "outputs": [],
   "source": [
    "import pandas as pd\n",
    "import numpy as np\n",
    "import torch\n",
    "from transformers import AutoTokenizer, MambaForCausalLM\n",
    "from datasets import load_dataset\n",
    "from evaluate import load"
   ]
  },
  {
   "cell_type": "code",
   "execution_count": 2,
   "metadata": {},
   "outputs": [],
   "source": [
    "torch.cuda.set_device(2)"
   ]
  },
  {
   "cell_type": "code",
   "execution_count": 3,
   "metadata": {},
   "outputs": [
    {
     "data": {
      "text/plain": [
       "2"
      ]
     },
     "execution_count": 3,
     "metadata": {},
     "output_type": "execute_result"
    }
   ],
   "source": [
    "torch.cuda.current_device()"
   ]
  },
  {
   "cell_type": "code",
   "execution_count": 4,
   "metadata": {},
   "outputs": [],
   "source": [
    "dataset = load_dataset(\"Trelis/tiny-shakespeare\")"
   ]
  },
  {
   "cell_type": "code",
   "execution_count": 5,
   "metadata": {},
   "outputs": [
    {
     "data": {
      "text/plain": [
       "{'train': (472, 1), 'test': (49, 1)}"
      ]
     },
     "execution_count": 5,
     "metadata": {},
     "output_type": "execute_result"
    }
   ],
   "source": [
    "dataset.shape"
   ]
  },
  {
   "cell_type": "code",
   "execution_count": 6,
   "metadata": {},
   "outputs": [
    {
     "data": {
      "text/plain": [
       "Dataset({\n",
       "    features: ['Text'],\n",
       "    num_rows: 472\n",
       "})"
      ]
     },
     "execution_count": 6,
     "metadata": {},
     "output_type": "execute_result"
    }
   ],
   "source": [
    "dataset[\"train\"]"
   ]
  },
  {
   "cell_type": "code",
   "execution_count": 7,
   "metadata": {},
   "outputs": [
    {
     "data": {
      "text/plain": [
       "\"TRANIO:\\nIs this your speeding? nay, then, good night our part!\\n\\nPETRUCHIO:\\nBe patient, gentlemen; I choose her for myself:\\nIf she and I be pleased, what's that to you?\\n'Tis bargain'd 'twixt us twain, being alone,\\nThat she shall still be curst in company.\\nI tell you, 'tis incredible to believe\\nHow much she loves me: O, the kindest Kate!\\nShe hung about my neck; and kiss on kiss\\nShe vied so fast, protesting oath on oath,\\nThat in a twink she won me to her love.\\nO, you are novices! 'tis a world to see,\\nHow tame, when men and women are alone,\\nA meacock wretch can make the curstest shrew.\\nGive me thy hand, Kate: I will unto Venice,\\nTo buy apparel 'gainst the wedding-day.\\nProvide the feast, father, and bid the guests;\\nI will be sure my Katharina shall be fine.\\n\\nBAPTISTA:\\nI know not what to say: but give me your hands;\\nGod send you joy, Petruchio! 'tis a match.\\n\\nGREMIO:\\nAmen, say we: we will be witnesses.\\n\\nPETRUCHIO:\\nFather, and wife, and gentlemen, adieu;\\nI will to Venice; Sunday comes apace:\\nWe will have rings and things and fine array;\\nAnd kiss me, Kate, we will be married o'Sunday.\\n\\nGREMIO:\\nWas ever match clapp'd up so suddenly?\\n\\nBAPTISTA:\\nFaith, gentlemen, now I play a merchant's part,\\nAnd venture madly on a desperate mart.\\n\\nTRANIO:\\n'Twas a commodity lay fretting by you:\\n'Twill bring you gain, or perish on the seas.\\n\\nBAPTISTA:\\nThe gain I seek is, quiet in the match.\\n\\nGREMIO:\\nNo doubt but he hath got a quiet catch.\\nBut now, Baptists, to your younger daughter:\\nNow is the day we long have looked for:\\nI am your neighbour, and was suitor first.\\n\\nTRANIO:\\nAnd I am one that love Bianca more\\nThan words can witness, or your thoughts can guess.\\n\\nGREMIO:\\nYoungling, thou canst not love so dear as I.\\n\\nTRANIO:\\nGraybeard, thy love doth freeze.\\n\\nGREMIO:\\nBut thine doth fry.\\nSkipper, stand back: 'tis age that nourisheth.\\n\\nTRANIO:\\nBut youth in ladies' eyes that flourisheth.\\n\\nBAPTISTA:\\nContent you, gentlemen: I will compound this strife:\\n'Tis deeds must win the prize; and he of both\\nThat can assure my daughter greatest dower\\nShall have my Bianca's love.\\nSay, Signior Gremio, What can you assure her?\\n\\nGREMIO:\\nFirst, as you know, my house within the city\\nIs richly furnished with plate and gold;\\nBasins and ewers to lave her dainty hands;\\nMy hangings all of Tyrian tapestry;\\nIn ivory coffers I have stuff'd my crowns;\\nIn cypress chests my arras counterpoints,\\nCostly apparel, tents, and canopies,\\nFine linen, Turkey cushions boss'd with pearl,\\nValance of Venice gold in needlework,\\nPewter and brass and all things that belong\\nTo house or housekeeping: then, at my farm\\nI have a hundred milch-kine to the pail,\\nSixscore fat oxen standing in my stalls,\\nAnd all things answerable to this portion.\\nMyself am struck in years, I must confess;\\nAnd if I die to-morrow, this is hers,\\nIf whilst I live she will be only mine.\\n\\nTRANIO:\\nThat 'only' came well in.\""
      ]
     },
     "execution_count": 7,
     "metadata": {},
     "output_type": "execute_result"
    }
   ],
   "source": [
    "dataset[\"test\"][\"Text\"][0]"
   ]
  },
  {
   "cell_type": "code",
   "execution_count": 8,
   "metadata": {},
   "outputs": [
    {
     "data": {
      "text/plain": [
       "2859"
      ]
     },
     "execution_count": 8,
     "metadata": {},
     "output_type": "execute_result"
    }
   ],
   "source": [
    "len(dataset[\"test\"][\"Text\"][0])"
   ]
  },
  {
   "cell_type": "code",
   "execution_count": 9,
   "metadata": {},
   "outputs": [],
   "source": [
    "device = \"cuda\" if torch.cuda.is_available() else \"cpu\"\n",
    "# device = \"cpu\""
   ]
  },
  {
   "cell_type": "code",
   "execution_count": 10,
   "metadata": {},
   "outputs": [
    {
     "name": "stderr",
     "output_type": "stream",
     "text": [
      "The fast path is not available because on of `(selective_state_update, selective_scan_fn, causal_conv1d_fn, causal_conv1d_update, mamba_inner_fn)` is None. Falling back to the naive implementation. To install follow https://github.com/state-spaces/mamba/#installation and https://github.com/Dao-AILab/causal-conv1d\n"
     ]
    }
   ],
   "source": [
    "model = MambaForCausalLM.from_pretrained(\"state-spaces/mamba-370m-hf\").to(device)"
   ]
  },
  {
   "cell_type": "code",
   "execution_count": 11,
   "metadata": {},
   "outputs": [
    {
     "name": "stderr",
     "output_type": "stream",
     "text": [
      "Special tokens have been added in the vocabulary, make sure the associated word embeddings are fine-tuned or trained.\n"
     ]
    }
   ],
   "source": [
    "tokenizer = AutoTokenizer.from_pretrained(\"state-spaces/mamba-370m-hf\")"
   ]
  },
  {
   "cell_type": "code",
   "execution_count": 12,
   "metadata": {},
   "outputs": [],
   "source": [
    "encodings = tokenizer(dataset[\"test\"][\"Text\"], return_tensors= \"pt\", padding=True)"
   ]
  },
  {
   "cell_type": "code",
   "execution_count": 13,
   "metadata": {},
   "outputs": [
    {
     "name": "stderr",
     "output_type": "stream",
     "text": [
      "/home/itrujillo/.local/lib/python3.9/site-packages/huggingface_hub/file_download.py:1132: FutureWarning: `resume_download` is deprecated and will be removed in version 1.0.0. Downloads always resume when possible. If you want to force a new download, use `force_download=True`.\n",
      "  warnings.warn(\n"
     ]
    },
    {
     "data": {
      "text/plain": [
       "({'architectures': ['MambaForCausalLM'],\n",
       "  'bos_token_id': 0,\n",
       "  'conv_kernel': 4,\n",
       "  'd_inner': 160,\n",
       "  'd_model': 1024,\n",
       "  'dt_rank': 'auto',\n",
       "  'eos_token_id': 0,\n",
       "  'expand': 2,\n",
       "  'fused_add_norm': True,\n",
       "  'hidden_act': 'silu',\n",
       "  'hidden_size': 1024,\n",
       "  'initializer_range': 0.1,\n",
       "  'intermediate_size': 2048,\n",
       "  'layer_norm_epsilon': 1e-05,\n",
       "  'model_type': 'mamba',\n",
       "  'n_layer': 48,\n",
       "  'num_hidden_layers': 48,\n",
       "  'pad_token_id': 0,\n",
       "  'pad_vocab_size_multiple': 8,\n",
       "  'rescale_prenorm_residual': False,\n",
       "  'residual_in_fp32': True,\n",
       "  'rms_norm': True,\n",
       "  'ssm_cfg': {},\n",
       "  'state_size': 16,\n",
       "  'time_step_floor': 0.0001,\n",
       "  'time_step_init_scheme': 'random',\n",
       "  'time_step_max': 0.1,\n",
       "  'time_step_min': 0.001,\n",
       "  'time_step_rank': 64,\n",
       "  'time_step_scale': 1.0,\n",
       "  'torch_dtype': 'float32',\n",
       "  'transformers_version': '4.39.0.dev0',\n",
       "  'use_bias': False,\n",
       "  'use_cache': True,\n",
       "  'use_conv_bias': True,\n",
       "  'vocab_size': 50280,\n",
       "  '_commit_hash': 'b519127f5bfaaa1c27dd938dad051ec360972b23'},\n",
       " {})"
      ]
     },
     "execution_count": 13,
     "metadata": {},
     "output_type": "execute_result"
    }
   ],
   "source": [
    "model.config.get_config_dict(\"state-spaces/mamba-370m-hf\")"
   ]
  },
  {
   "cell_type": "code",
   "execution_count": 14,
   "metadata": {},
   "outputs": [],
   "source": [
    "perplexity = load(\"perplexity\", module_type=\"metric\")"
   ]
  },
  {
   "cell_type": "code",
   "execution_count": 40,
   "metadata": {},
   "outputs": [],
   "source": [
    "BATCH_SIZE = 1"
   ]
  },
  {
   "cell_type": "code",
   "execution_count": 43,
   "metadata": {},
   "outputs": [
    {
     "ename": "IndexError",
     "evalue": "list index out of range",
     "output_type": "error",
     "traceback": [
      "\u001b[0;31m---------------------------------------------------------------------------\u001b[0m",
      "\u001b[0;31mIndexError\u001b[0m                                Traceback (most recent call last)",
      "\u001b[0;32m<ipython-input-43-bd9724fa842b>\u001b[0m in \u001b[0;36m<module>\u001b[0;34m\u001b[0m\n\u001b[1;32m      3\u001b[0m     \u001b[0;32mfor\u001b[0m \u001b[0mi\u001b[0m \u001b[0;32min\u001b[0m \u001b[0mrange\u001b[0m\u001b[0;34m(\u001b[0m\u001b[0;34m(\u001b[0m\u001b[0mlen\u001b[0m\u001b[0;34m(\u001b[0m\u001b[0mdataset\u001b[0m\u001b[0;34m[\u001b[0m\u001b[0;34m\"test\"\u001b[0m\u001b[0;34m]\u001b[0m\u001b[0;34m[\u001b[0m\u001b[0;34m\"Text\"\u001b[0m\u001b[0;34m]\u001b[0m\u001b[0;34m)\u001b[0m \u001b[0;34m//\u001b[0m \u001b[0mBATCH_SIZE\u001b[0m\u001b[0;34m)\u001b[0m \u001b[0;34m+\u001b[0m \u001b[0;36m1\u001b[0m\u001b[0;34m)\u001b[0m\u001b[0;34m:\u001b[0m\u001b[0;34m\u001b[0m\u001b[0;34m\u001b[0m\u001b[0m\n\u001b[1;32m      4\u001b[0m         \u001b[0mbatch\u001b[0m \u001b[0;34m=\u001b[0m \u001b[0mdataset\u001b[0m\u001b[0;34m[\u001b[0m\u001b[0;34m\"test\"\u001b[0m\u001b[0;34m]\u001b[0m\u001b[0;34m[\u001b[0m\u001b[0;34m\"Text\"\u001b[0m\u001b[0;34m]\u001b[0m\u001b[0;34m[\u001b[0m\u001b[0mi\u001b[0m\u001b[0;34m*\u001b[0m\u001b[0mBATCH_SIZE\u001b[0m\u001b[0;34m:\u001b[0m\u001b[0;34m(\u001b[0m\u001b[0;36m1\u001b[0m\u001b[0;34m+\u001b[0m\u001b[0mi\u001b[0m\u001b[0;34m)\u001b[0m\u001b[0;34m*\u001b[0m\u001b[0mBATCH_SIZE\u001b[0m\u001b[0;34m]\u001b[0m\u001b[0;34m\u001b[0m\u001b[0;34m\u001b[0m\u001b[0m\n\u001b[0;32m----> 5\u001b[0;31m         \u001b[0mencodings\u001b[0m \u001b[0;34m=\u001b[0m \u001b[0mtokenizer\u001b[0m\u001b[0;34m(\u001b[0m\u001b[0mbatch\u001b[0m\u001b[0;34m,\u001b[0m \u001b[0mreturn_tensors\u001b[0m\u001b[0;34m=\u001b[0m \u001b[0;34m\"pt\"\u001b[0m\u001b[0;34m,\u001b[0m \u001b[0mpadding\u001b[0m\u001b[0;34m=\u001b[0m\u001b[0;32mTrue\u001b[0m\u001b[0;34m)\u001b[0m\u001b[0;34m\u001b[0m\u001b[0;34m\u001b[0m\u001b[0m\n\u001b[0m\u001b[1;32m      6\u001b[0m         \u001b[0minput_ids\u001b[0m \u001b[0;34m=\u001b[0m \u001b[0mencodings\u001b[0m\u001b[0;34m.\u001b[0m\u001b[0minput_ids\u001b[0m\u001b[0;34m.\u001b[0m\u001b[0mto\u001b[0m\u001b[0;34m(\u001b[0m\u001b[0mdevice\u001b[0m\u001b[0;34m)\u001b[0m\u001b[0;34m\u001b[0m\u001b[0;34m\u001b[0m\u001b[0m\n\u001b[1;32m      7\u001b[0m         \u001b[0moutputs\u001b[0m \u001b[0;34m=\u001b[0m \u001b[0mmodel\u001b[0m\u001b[0;34m(\u001b[0m\u001b[0minput_ids\u001b[0m\u001b[0;34m)\u001b[0m\u001b[0;34m\u001b[0m\u001b[0;34m\u001b[0m\u001b[0m\n",
      "\u001b[0;32m~/.local/lib/python3.9/site-packages/transformers/tokenization_utils_base.py\u001b[0m in \u001b[0;36m__call__\u001b[0;34m(self, text, text_pair, text_target, text_pair_target, add_special_tokens, padding, truncation, max_length, stride, is_split_into_words, pad_to_multiple_of, return_tensors, return_token_type_ids, return_attention_mask, return_overflowing_tokens, return_special_tokens_mask, return_offsets_mapping, return_length, verbose, **kwargs)\u001b[0m\n\u001b[1;32m   2881\u001b[0m             \u001b[0;32mif\u001b[0m \u001b[0;32mnot\u001b[0m \u001b[0mself\u001b[0m\u001b[0;34m.\u001b[0m\u001b[0m_in_target_context_manager\u001b[0m\u001b[0;34m:\u001b[0m\u001b[0;34m\u001b[0m\u001b[0;34m\u001b[0m\u001b[0m\n\u001b[1;32m   2882\u001b[0m                 \u001b[0mself\u001b[0m\u001b[0;34m.\u001b[0m\u001b[0m_switch_to_input_mode\u001b[0m\u001b[0;34m(\u001b[0m\u001b[0;34m)\u001b[0m\u001b[0;34m\u001b[0m\u001b[0;34m\u001b[0m\u001b[0m\n\u001b[0;32m-> 2883\u001b[0;31m             \u001b[0mencodings\u001b[0m \u001b[0;34m=\u001b[0m \u001b[0mself\u001b[0m\u001b[0;34m.\u001b[0m\u001b[0m_call_one\u001b[0m\u001b[0;34m(\u001b[0m\u001b[0mtext\u001b[0m\u001b[0;34m=\u001b[0m\u001b[0mtext\u001b[0m\u001b[0;34m,\u001b[0m \u001b[0mtext_pair\u001b[0m\u001b[0;34m=\u001b[0m\u001b[0mtext_pair\u001b[0m\u001b[0;34m,\u001b[0m \u001b[0;34m**\u001b[0m\u001b[0mall_kwargs\u001b[0m\u001b[0;34m)\u001b[0m\u001b[0;34m\u001b[0m\u001b[0;34m\u001b[0m\u001b[0m\n\u001b[0m\u001b[1;32m   2884\u001b[0m         \u001b[0;32mif\u001b[0m \u001b[0mtext_target\u001b[0m \u001b[0;32mis\u001b[0m \u001b[0;32mnot\u001b[0m \u001b[0;32mNone\u001b[0m\u001b[0;34m:\u001b[0m\u001b[0;34m\u001b[0m\u001b[0;34m\u001b[0m\u001b[0m\n\u001b[1;32m   2885\u001b[0m             \u001b[0mself\u001b[0m\u001b[0;34m.\u001b[0m\u001b[0m_switch_to_target_mode\u001b[0m\u001b[0;34m(\u001b[0m\u001b[0;34m)\u001b[0m\u001b[0;34m\u001b[0m\u001b[0;34m\u001b[0m\u001b[0m\n",
      "\u001b[0;32m~/.local/lib/python3.9/site-packages/transformers/tokenization_utils_base.py\u001b[0m in \u001b[0;36m_call_one\u001b[0;34m(self, text, text_pair, add_special_tokens, padding, truncation, max_length, stride, is_split_into_words, pad_to_multiple_of, return_tensors, return_token_type_ids, return_attention_mask, return_overflowing_tokens, return_special_tokens_mask, return_offsets_mapping, return_length, verbose, **kwargs)\u001b[0m\n\u001b[1;32m   2967\u001b[0m                 )\n\u001b[1;32m   2968\u001b[0m             \u001b[0mbatch_text_or_text_pairs\u001b[0m \u001b[0;34m=\u001b[0m \u001b[0mlist\u001b[0m\u001b[0;34m(\u001b[0m\u001b[0mzip\u001b[0m\u001b[0;34m(\u001b[0m\u001b[0mtext\u001b[0m\u001b[0;34m,\u001b[0m \u001b[0mtext_pair\u001b[0m\u001b[0;34m)\u001b[0m\u001b[0;34m)\u001b[0m \u001b[0;32mif\u001b[0m \u001b[0mtext_pair\u001b[0m \u001b[0;32mis\u001b[0m \u001b[0;32mnot\u001b[0m \u001b[0;32mNone\u001b[0m \u001b[0;32melse\u001b[0m \u001b[0mtext\u001b[0m\u001b[0;34m\u001b[0m\u001b[0;34m\u001b[0m\u001b[0m\n\u001b[0;32m-> 2969\u001b[0;31m             return self.batch_encode_plus(\n\u001b[0m\u001b[1;32m   2970\u001b[0m                 \u001b[0mbatch_text_or_text_pairs\u001b[0m\u001b[0;34m=\u001b[0m\u001b[0mbatch_text_or_text_pairs\u001b[0m\u001b[0;34m,\u001b[0m\u001b[0;34m\u001b[0m\u001b[0;34m\u001b[0m\u001b[0m\n\u001b[1;32m   2971\u001b[0m                 \u001b[0madd_special_tokens\u001b[0m\u001b[0;34m=\u001b[0m\u001b[0madd_special_tokens\u001b[0m\u001b[0;34m,\u001b[0m\u001b[0;34m\u001b[0m\u001b[0;34m\u001b[0m\u001b[0m\n",
      "\u001b[0;32m~/.local/lib/python3.9/site-packages/transformers/tokenization_utils_base.py\u001b[0m in \u001b[0;36mbatch_encode_plus\u001b[0;34m(self, batch_text_or_text_pairs, add_special_tokens, padding, truncation, max_length, stride, is_split_into_words, pad_to_multiple_of, return_tensors, return_token_type_ids, return_attention_mask, return_overflowing_tokens, return_special_tokens_mask, return_offsets_mapping, return_length, verbose, **kwargs)\u001b[0m\n\u001b[1;32m   3158\u001b[0m         )\n\u001b[1;32m   3159\u001b[0m \u001b[0;34m\u001b[0m\u001b[0m\n\u001b[0;32m-> 3160\u001b[0;31m         return self._batch_encode_plus(\n\u001b[0m\u001b[1;32m   3161\u001b[0m             \u001b[0mbatch_text_or_text_pairs\u001b[0m\u001b[0;34m=\u001b[0m\u001b[0mbatch_text_or_text_pairs\u001b[0m\u001b[0;34m,\u001b[0m\u001b[0;34m\u001b[0m\u001b[0;34m\u001b[0m\u001b[0m\n\u001b[1;32m   3162\u001b[0m             \u001b[0madd_special_tokens\u001b[0m\u001b[0;34m=\u001b[0m\u001b[0madd_special_tokens\u001b[0m\u001b[0;34m,\u001b[0m\u001b[0;34m\u001b[0m\u001b[0;34m\u001b[0m\u001b[0m\n",
      "\u001b[0;32m~/.local/lib/python3.9/site-packages/transformers/tokenization_utils_fast.py\u001b[0m in \u001b[0;36m_batch_encode_plus\u001b[0;34m(self, batch_text_or_text_pairs, add_special_tokens, padding_strategy, truncation_strategy, max_length, stride, is_split_into_words, pad_to_multiple_of, return_tensors, return_token_type_ids, return_attention_mask, return_overflowing_tokens, return_special_tokens_mask, return_offsets_mapping, return_length, verbose)\u001b[0m\n\u001b[1;32m    542\u001b[0m         \u001b[0;31m# we add an overflow_to_sample_mapping array (see below)\u001b[0m\u001b[0;34m\u001b[0m\u001b[0;34m\u001b[0m\u001b[0;34m\u001b[0m\u001b[0m\n\u001b[1;32m    543\u001b[0m         \u001b[0msanitized_tokens\u001b[0m \u001b[0;34m=\u001b[0m \u001b[0;34m{\u001b[0m\u001b[0;34m}\u001b[0m\u001b[0;34m\u001b[0m\u001b[0;34m\u001b[0m\u001b[0m\n\u001b[0;32m--> 544\u001b[0;31m         \u001b[0;32mfor\u001b[0m \u001b[0mkey\u001b[0m \u001b[0;32min\u001b[0m \u001b[0mtokens_and_encodings\u001b[0m\u001b[0;34m[\u001b[0m\u001b[0;36m0\u001b[0m\u001b[0;34m]\u001b[0m\u001b[0;34m[\u001b[0m\u001b[0;36m0\u001b[0m\u001b[0;34m]\u001b[0m\u001b[0;34m.\u001b[0m\u001b[0mkeys\u001b[0m\u001b[0;34m(\u001b[0m\u001b[0;34m)\u001b[0m\u001b[0;34m:\u001b[0m\u001b[0;34m\u001b[0m\u001b[0;34m\u001b[0m\u001b[0m\n\u001b[0m\u001b[1;32m    545\u001b[0m             \u001b[0mstack\u001b[0m \u001b[0;34m=\u001b[0m \u001b[0;34m[\u001b[0m\u001b[0me\u001b[0m \u001b[0;32mfor\u001b[0m \u001b[0mitem\u001b[0m\u001b[0;34m,\u001b[0m \u001b[0m_\u001b[0m \u001b[0;32min\u001b[0m \u001b[0mtokens_and_encodings\u001b[0m \u001b[0;32mfor\u001b[0m \u001b[0me\u001b[0m \u001b[0;32min\u001b[0m \u001b[0mitem\u001b[0m\u001b[0;34m[\u001b[0m\u001b[0mkey\u001b[0m\u001b[0;34m]\u001b[0m\u001b[0;34m]\u001b[0m\u001b[0;34m\u001b[0m\u001b[0;34m\u001b[0m\u001b[0m\n\u001b[1;32m    546\u001b[0m             \u001b[0msanitized_tokens\u001b[0m\u001b[0;34m[\u001b[0m\u001b[0mkey\u001b[0m\u001b[0;34m]\u001b[0m \u001b[0;34m=\u001b[0m \u001b[0mstack\u001b[0m\u001b[0;34m\u001b[0m\u001b[0;34m\u001b[0m\u001b[0m\n",
      "\u001b[0;31mIndexError\u001b[0m: list index out of range"
     ]
    }
   ],
   "source": [
    "predictions = []\n",
    "with torch.no_grad():\n",
    "    for i in range((len(dataset[\"test\"][\"Text\"]) // BATCH_SIZE) + 1):\n",
    "        batch = dataset[\"test\"][\"Text\"][i*BATCH_SIZE:(1+i)*BATCH_SIZE]\n",
    "        encodings = tokenizer(batch, return_tensors= \"pt\", padding=True)\n",
    "        input_ids = encodings.input_ids.to(device)\n",
    "        outputs = model(input_ids)\n",
    "        p = tokenizer.decode(outputs.logits.argmax(dim=-1)[0], skip_special_tokens=True)\n",
    "        predictions.append(p)"
   ]
  },
  {
   "cell_type": "code",
   "execution_count": 44,
   "metadata": {},
   "outputs": [
    {
     "data": {
      "text/plain": [
       "[\"SF_\\n\\t there the first ticket\\nah, but,\\n sir. Lording\\n\\n_ERCHIO:\\nI it, my, I'll to for my.\\n\\n she be I are not, we need the to you?\\n\\nTis but,,twixt us,ain, and both.\\nAnd I shall be be minest, my.\\n\\n'll you, Itis a, me\\nThat much I loves me, I, I love of heart!\\n\\n's upon my neck, she,'d my\\nShe gaveouch with sweet with that,s oath,\\nThat I the momentinklingle would me. her heart.\\n\\n, I are madices, Itis a wonder of me\\n\\nAnd much and how you are women are so!\\nHow womanekock'soo, love a moststest love.\\n\\n me your hand, my, I'll not her,\\nAnd see theearel forgainst the plague-day.\\n\\nidence me money, and, and the the maid\\n\\nI'll be ready to wifearineina will be there.\\n\\n[ETTISTA:\\nI'll not what to say, I, me leave hand,\\nI bless you both, andruchio!\\ntis a joy\\n\\n\\nPETTEO:\\nI match! my you, and'll be merry.\\n\\nPETRUCHIO:\\nI, I you, and friends, farewellieu.\\nI'll not Venice, and is notace.\\nI will be a, jewels, all clothes,\\nAnd then the, Kate, and will, friends.'er.\\n\\nBMIO:\\nI ever such soapped'd so so well?\\n\\nPETAPTISTA:\\nOith, I, I I am the fool, part,\\nI I myly on the match venture.\\n\\nPETIO:\\nITis a good, inting in my,\\nITis be you to, and loseish you the road.\\n\\nPETAPTISTA:\\nI devil is'll, not to and my sea.\\n\\nTRANMIO:\\nI,, you will a his wife in.\\n\\n,, goodista, let the prayers sel.\\nI, the time,'ll for waited for.\\nAnd'll a father, and your onceitor to.\\n\\nPETIO:\\nI I, your of loves youca's\\nThan all can tell, and the eyes can tell.\\n\\nBMIO:\\nI Bian, I hastst not be her much a I.\\n\\nTRANIO:\\nI,ard, thou love isoth not my\\n\\nGREMIO:\\nI Iine,oth not.\\n\\nisterpping, I by, Itis a and makesishesheth\\n\\n\\nTRANIO:\\nI I is love' hearts is isishesheth.\\n\\nGREAPTISTA:\\nI,, gentlemen, I am be\\n.ife.\\nITis but of be the hearts. and I that whom\\nThat hath best the love, loveower,Shall be the daughterca. hand.\\n\\n, whator,remio, what isst say??\\n\\nGREMIO:\\nI, that I know, I daughter is the city\\nIs richly furnished with the and jewels;\\nAndil, vwers, thever the faceainty feet;\\nAnd tableings, of goldrian silkestry;\\nMy myory anders, have stores her bedns;\\nAnd goldpress-sts I jewelsas hangfe;\\nAndly andarel, and, and allopies;\\nAnd hang, and,ions,ed with goldls,\\nAndets and gold,, goldwork,\\nAndaperster cups silver, silver the of are\\nTo the and palacemaid, all, my my cost,I have a garden acresch cowscine, feed yearence,\\nAnd hundred ox oxen, in the yard,\\nAnd a my thatable to my house.\\n\\nineelf, a with love, and am confess,\\nBut, I live,-morrow, I will my.\\nAnd she I live, lives not mine mine.\\n\\nTRANIO:\\nAnd'ss' is to with hand\\n\",\n",
       " ', I of me.\"\\n\\n have a father\\'s son, I son.\\nI I die not the daughter, wife wife,\\nI shall be my to and hundred four times I as\\nAnd the andomer,, and I man canMayeror,ualio, ever hisua.\\nAnd, I to me:\\nI am my father\\'s heir and only son:\\nIf I may have your daughter to my wife,\\nI\\'ll leave her houses three or four as good,\\nWithin rich Pisa walls, as any one\\nOld my or ducats, me King.In my land, and my I be mine ownure.\\n\\n is sir you not\\'d you? sirior Gremio?\\nIGMIO.\\nNo thousand ducats, the year, fruitful,\\n\\n daughter is to to two much. P.\\nI\\'s shall have, and, hundredenty,Of shall is in in theseilles, port.\\n\\n, have I pinch her, my argosy?\\n\\nGSA:\\nNoentio, Itis a that father\\'s a heir\\nThan two thousand shipsosies in and, greatiesots,\\nAnd a great-alleys, and are\\'ll have you.\\nAnd she as much as ifate\\'er she w\\'st me.\\n\\nGREMIO:\\nIay, I\\'ll no\\'d her I and\\'ll no more:\\nAnd, shall have none more, I I offer.\\nI she will,, I shall have all. me.\\n\\nTRANIO:\\nI, then, lady shall mine, this the world,\\nAnd my consent hand, andremio, mine ofbidoted.\\n\\nGREORTISTA:\\nI\\'ll not, father is too best:\\nBut I if me father\\'s his his same,\\nI shall the daughter, and, I shall have me.\\nI I will think in I. andof your fatherower.\\n\\nGREIO:\\nI\\'s a a questional, I that my and and am;\\n\\nBMIO:\\nI, I be men die before if old as old?\\n\\nTRANAPTISTA:\\nI, then, II\\'ll your to, I the next,\\n\\nI daughter shallarineina will to be married,\\nI, if the same next, I sheca\\nBe married to my, and you will day\\n\\nAnd not, Iior Gremio, IIf,, farewell\\'ll my leave. and bid you all.\\n\\nTRANMIO:\\nIieu, good sir.\\n\\n, am I,,\\nI,, manter, I good\\'s\\n fool,To have you such his and thou thy ownits years\\nTo thee on thy bed.\\nel tut fool!\\n\\n old man,, not so wise\\n\\n boy,\\n\\nTRANIO:\\nI fool, thee fatherfty tongueitsing tongue!\\n\\n, am heard your, a better of mine,\\n\\nTis a my hand, play it father good,\\nI\\'ll the way why to illaio\\nShould be a wife\\'s and him GFatherlic\\'e.\\'\\n\\nAnd,, the good, for are areAre not their daughters, and, this case, Lucitsing,\\nI father is be his fatherire, and he be.. him father.\\n\\nBUCENTIO:\\nIoollest, thouear,\\n are too bold.\\n.\\nI you no much forgot the old\\nYou lad gavearina gave you???\\n\\nTRANENENSIO:\\nI, sirangling,ant, I is notA firstage of my music,\\nI, me leave to sing myachedative\\n\\nAnd, I my I have done our hour,\\nLet daughter shall be been to a much.\\n\\nTRANUCENTIO:\\nIareous!!\\n\\'s heard a much\\nAs learn the meaning of music is inventedain\\'d\\n\\n\\n it not to make the ear of man?With the long, his lab hours?\\n\\n, me leave to hear the,\\nAnd I I read, I you the service.\\n\\nTRANORTENSIO:\\nI,, you\\'ll not hear you insolzen\\n yoursine\\n\\n\\nLANCA:\\nI, what, I are me wrong wrong:\\nIf make with such which Ieth not my power.\\nI am your wch,, the arts,\\nI have not be taught to any of toted\\'.\\'\\nNor, the lessons, I please,.\\n']"
      ]
     },
     "execution_count": 44,
     "metadata": {},
     "output_type": "execute_result"
    }
   ],
   "source": [
    "predictions[0:2]"
   ]
  },
  {
   "cell_type": "code",
   "execution_count": 47,
   "metadata": {},
   "outputs": [
    {
     "data": {
      "application/vnd.jupyter.widget-view+json": {
       "model_id": "85fa8946cb494c749784e028ff7f2fa5",
       "version_major": 2,
       "version_minor": 0
      },
      "text/plain": [
       "config.json:   0%|          | 0.00/665 [00:00<?, ?B/s]"
      ]
     },
     "metadata": {},
     "output_type": "display_data"
    },
    {
     "data": {
      "application/vnd.jupyter.widget-view+json": {
       "model_id": "1a8af44aa7d44f2fbca180679cbcf529",
       "version_major": 2,
       "version_minor": 0
      },
      "text/plain": [
       "model.safetensors:   0%|          | 0.00/548M [00:00<?, ?B/s]"
      ]
     },
     "metadata": {},
     "output_type": "display_data"
    },
    {
     "data": {
      "application/vnd.jupyter.widget-view+json": {
       "model_id": "98b7b7969bf346e7a8cf5349550b73fb",
       "version_major": 2,
       "version_minor": 0
      },
      "text/plain": [
       "generation_config.json:   0%|          | 0.00/124 [00:00<?, ?B/s]"
      ]
     },
     "metadata": {},
     "output_type": "display_data"
    },
    {
     "data": {
      "application/vnd.jupyter.widget-view+json": {
       "model_id": "a66c5b5168194dc4a67e18beffafc9da",
       "version_major": 2,
       "version_minor": 0
      },
      "text/plain": [
       "tokenizer_config.json:   0%|          | 0.00/26.0 [00:00<?, ?B/s]"
      ]
     },
     "metadata": {},
     "output_type": "display_data"
    },
    {
     "data": {
      "application/vnd.jupyter.widget-view+json": {
       "model_id": "0a1cdf7843c343109cc349bee168aee1",
       "version_major": 2,
       "version_minor": 0
      },
      "text/plain": [
       "vocab.json:   0%|          | 0.00/1.04M [00:00<?, ?B/s]"
      ]
     },
     "metadata": {},
     "output_type": "display_data"
    },
    {
     "data": {
      "application/vnd.jupyter.widget-view+json": {
       "model_id": "5f72d53407c746ebb61f224333a2d123",
       "version_major": 2,
       "version_minor": 0
      },
      "text/plain": [
       "merges.txt:   0%|          | 0.00/456k [00:00<?, ?B/s]"
      ]
     },
     "metadata": {},
     "output_type": "display_data"
    },
    {
     "data": {
      "application/vnd.jupyter.widget-view+json": {
       "model_id": "27e4d9ebd4eb40b9ada157a58b6f22d0",
       "version_major": 2,
       "version_minor": 0
      },
      "text/plain": [
       "tokenizer.json:   0%|          | 0.00/1.36M [00:00<?, ?B/s]"
      ]
     },
     "metadata": {},
     "output_type": "display_data"
    },
    {
     "data": {
      "application/vnd.jupyter.widget-view+json": {
       "model_id": "d94422200d8c4f16b9304767e5d3f613",
       "version_major": 2,
       "version_minor": 0
      },
      "text/plain": [
       "  0%|          | 0/4 [00:00<?, ?it/s]"
      ]
     },
     "metadata": {},
     "output_type": "display_data"
    }
   ],
   "source": [
    "results = perplexity.compute(predictions=predictions, model_id='gpt2', add_start_token=False)"
   ]
  },
  {
   "cell_type": "code",
   "execution_count": 48,
   "metadata": {},
   "outputs": [
    {
     "data": {
      "text/plain": [
       "{'perplexities': [242.85498046875,\n",
       "  194.62364196777344,\n",
       "  257.1144714355469,\n",
       "  216.77117919921875,\n",
       "  134.54393005371094,\n",
       "  269.7972106933594,\n",
       "  184.23556518554688,\n",
       "  144.16860961914062,\n",
       "  203.2635040283203,\n",
       "  136.79092407226562,\n",
       "  194.1909942626953,\n",
       "  288.9359130859375,\n",
       "  216.0003204345703,\n",
       "  266.634765625,\n",
       "  271.5791931152344,\n",
       "  176.6090850830078,\n",
       "  201.47955322265625,\n",
       "  232.98898315429688,\n",
       "  162.88418579101562,\n",
       "  184.16661071777344,\n",
       "  276.2787780761719,\n",
       "  122.96223449707031,\n",
       "  103.34008026123047,\n",
       "  286.822509765625,\n",
       "  197.147705078125,\n",
       "  173.7272186279297,\n",
       "  146.87362670898438,\n",
       "  122.0363998413086,\n",
       "  142.4132537841797,\n",
       "  101.52983856201172,\n",
       "  181.15313720703125,\n",
       "  75.74742889404297,\n",
       "  206.21128845214844,\n",
       "  205.3009033203125,\n",
       "  347.85528564453125,\n",
       "  245.13546752929688,\n",
       "  200.1460723876953,\n",
       "  313.5729675292969,\n",
       "  416.6464538574219,\n",
       "  238.07554626464844,\n",
       "  358.1771545410156,\n",
       "  298.20269775390625,\n",
       "  340.5093078613281,\n",
       "  223.38792419433594,\n",
       "  348.784423828125,\n",
       "  93.56739044189453,\n",
       "  89.27159881591797,\n",
       "  215.16558837890625,\n",
       "  129.37692260742188],\n",
       " 'mean_perplexity': 211.8174046107701}"
      ]
     },
     "execution_count": 48,
     "metadata": {},
     "output_type": "execute_result"
    }
   ],
   "source": [
    "results"
   ]
  }
 ],
 "metadata": {
  "kernelspec": {
   "display_name": "Python 3",
   "language": "python",
   "name": "python3"
  },
  "language_info": {
   "codemirror_mode": {
    "name": "ipython",
    "version": 3
   },
   "file_extension": ".py",
   "mimetype": "text/x-python",
   "name": "python",
   "nbconvert_exporter": "python",
   "pygments_lexer": "ipython3",
   "version": "3.9.2"
  }
 },
 "nbformat": 4,
 "nbformat_minor": 4
}
