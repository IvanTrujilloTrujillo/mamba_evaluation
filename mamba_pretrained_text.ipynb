{
 "cells": [
  {
   "cell_type": "code",
   "execution_count": 1,
   "metadata": {},
   "outputs": [],
   "source": [
    "import pandas as pd\n",
    "import numpy as np\n",
    "import torch\n",
    "from transformers import AutoTokenizer, MambaForCausalLM\n",
    "from datasets import load_dataset\n",
    "from evaluate import load"
   ]
  },
  {
   "cell_type": "code",
   "execution_count": 2,
   "metadata": {},
   "outputs": [],
   "source": [
    "torch.cuda.set_device(2)"
   ]
  },
  {
   "cell_type": "code",
   "execution_count": 3,
   "metadata": {},
   "outputs": [
    {
     "data": {
      "text/plain": [
       "2"
      ]
     },
     "execution_count": 3,
     "metadata": {},
     "output_type": "execute_result"
    }
   ],
   "source": [
    "torch.cuda.current_device()"
   ]
  },
  {
   "cell_type": "code",
   "execution_count": 4,
   "metadata": {},
   "outputs": [],
   "source": [
    "dataset = load_dataset(\"Trelis/tiny-shakespeare\")"
   ]
  },
  {
   "cell_type": "code",
   "execution_count": 5,
   "metadata": {},
   "outputs": [
    {
     "data": {
      "text/plain": [
       "{'train': (472, 1), 'test': (49, 1)}"
      ]
     },
     "execution_count": 5,
     "metadata": {},
     "output_type": "execute_result"
    }
   ],
   "source": [
    "dataset.shape"
   ]
  },
  {
   "cell_type": "code",
   "execution_count": 6,
   "metadata": {},
   "outputs": [
    {
     "data": {
      "text/plain": [
       "Dataset({\n",
       "    features: ['Text'],\n",
       "    num_rows: 472\n",
       "})"
      ]
     },
     "execution_count": 6,
     "metadata": {},
     "output_type": "execute_result"
    }
   ],
   "source": [
    "dataset[\"train\"]"
   ]
  },
  {
   "cell_type": "code",
   "execution_count": 7,
   "metadata": {},
   "outputs": [
    {
     "data": {
      "text/plain": [
       "\"TRANIO:\\nIs this your speeding? nay, then, good night our part!\\n\\nPETRUCHIO:\\nBe patient, gentlemen; I choose her for myself:\\nIf she and I be pleased, what's that to you?\\n'Tis bargain'd 'twixt us twain, being alone,\\nThat she shall still be curst in company.\\nI tell you, 'tis incredible to believe\\nHow much she loves me: O, the kindest Kate!\\nShe hung about my neck; and kiss on kiss\\nShe vied so fast, protesting oath on oath,\\nThat in a twink she won me to her love.\\nO, you are novices! 'tis a world to see,\\nHow tame, when men and women are alone,\\nA meacock wretch can make the curstest shrew.\\nGive me thy hand, Kate: I will unto Venice,\\nTo buy apparel 'gainst the wedding-day.\\nProvide the feast, father, and bid the guests;\\nI will be sure my Katharina shall be fine.\\n\\nBAPTISTA:\\nI know not what to say: but give me your hands;\\nGod send you joy, Petruchio! 'tis a match.\\n\\nGREMIO:\\nAmen, say we: we will be witnesses.\\n\\nPETRUCHIO:\\nFather, and wife, and gentlemen, adieu;\\nI will to Venice; Sunday comes apace:\\nWe will have rings and things and fine array;\\nAnd kiss me, Kate, we will be married o'Sunday.\\n\\nGREMIO:\\nWas ever match clapp'd up so suddenly?\\n\\nBAPTISTA:\\nFaith, gentlemen, now I play a merchant's part,\\nAnd venture madly on a desperate mart.\\n\\nTRANIO:\\n'Twas a commodity lay fretting by you:\\n'Twill bring you gain, or perish on the seas.\\n\\nBAPTISTA:\\nThe gain I seek is, quiet in the match.\\n\\nGREMIO:\\nNo doubt but he hath got a quiet catch.\\nBut now, Baptists, to your younger daughter:\\nNow is the day we long have looked for:\\nI am your neighbour, and was suitor first.\\n\\nTRANIO:\\nAnd I am one that love Bianca more\\nThan words can witness, or your thoughts can guess.\\n\\nGREMIO:\\nYoungling, thou canst not love so dear as I.\\n\\nTRANIO:\\nGraybeard, thy love doth freeze.\\n\\nGREMIO:\\nBut thine doth fry.\\nSkipper, stand back: 'tis age that nourisheth.\\n\\nTRANIO:\\nBut youth in ladies' eyes that flourisheth.\\n\\nBAPTISTA:\\nContent you, gentlemen: I will compound this strife:\\n'Tis deeds must win the prize; and he of both\\nThat can assure my daughter greatest dower\\nShall have my Bianca's love.\\nSay, Signior Gremio, What can you assure her?\\n\\nGREMIO:\\nFirst, as you know, my house within the city\\nIs richly furnished with plate and gold;\\nBasins and ewers to lave her dainty hands;\\nMy hangings all of Tyrian tapestry;\\nIn ivory coffers I have stuff'd my crowns;\\nIn cypress chests my arras counterpoints,\\nCostly apparel, tents, and canopies,\\nFine linen, Turkey cushions boss'd with pearl,\\nValance of Venice gold in needlework,\\nPewter and brass and all things that belong\\nTo house or housekeeping: then, at my farm\\nI have a hundred milch-kine to the pail,\\nSixscore fat oxen standing in my stalls,\\nAnd all things answerable to this portion.\\nMyself am struck in years, I must confess;\\nAnd if I die to-morrow, this is hers,\\nIf whilst I live she will be only mine.\\n\\nTRANIO:\\nThat 'only' came well in.\""
      ]
     },
     "execution_count": 7,
     "metadata": {},
     "output_type": "execute_result"
    }
   ],
   "source": [
    "dataset[\"test\"][\"Text\"][0]"
   ]
  },
  {
   "cell_type": "code",
   "execution_count": 8,
   "metadata": {},
   "outputs": [
    {
     "data": {
      "text/plain": [
       "2859"
      ]
     },
     "execution_count": 8,
     "metadata": {},
     "output_type": "execute_result"
    }
   ],
   "source": [
    "len(dataset[\"test\"][\"Text\"][0])"
   ]
  },
  {
   "cell_type": "code",
   "execution_count": 9,
   "metadata": {},
   "outputs": [],
   "source": [
    "device = \"cuda\" if torch.cuda.is_available() else \"cpu\"\n",
    "# device = \"cpu\""
   ]
  },
  {
   "cell_type": "code",
   "execution_count": 10,
   "metadata": {},
   "outputs": [],
   "source": [
    "# model_size = \"130m\"\n",
    "# model_size = \"370m\"\n",
    "# model_size = \"790m\"\n",
    "# model_size = \"1.4b\"\n",
    "model_size = \"2.8b\""
   ]
  },
  {
   "cell_type": "code",
   "execution_count": 11,
   "metadata": {},
   "outputs": [
    {
     "data": {
      "application/vnd.jupyter.widget-view+json": {
       "model_id": "06854a618366479e9c3fbbac7e039b46",
       "version_major": 2,
       "version_minor": 0
      },
      "text/plain": [
       "config.json:   0%|          | 0.00/843 [00:00<?, ?B/s]"
      ]
     },
     "metadata": {},
     "output_type": "display_data"
    },
    {
     "data": {
      "application/vnd.jupyter.widget-view+json": {
       "model_id": "f8c6de23b3db48dc9013a8ec01c65052",
       "version_major": 2,
       "version_minor": 0
      },
      "text/plain": [
       "model.safetensors.index.json:   0%|          | 0.00/50.9k [00:00<?, ?B/s]"
      ]
     },
     "metadata": {},
     "output_type": "display_data"
    },
    {
     "data": {
      "application/vnd.jupyter.widget-view+json": {
       "model_id": "81fb119c2eca42c2afd389a41d06a1b1",
       "version_major": 2,
       "version_minor": 0
      },
      "text/plain": [
       "Downloading shards:   0%|          | 0/3 [00:00<?, ?it/s]"
      ]
     },
     "metadata": {},
     "output_type": "display_data"
    },
    {
     "data": {
      "application/vnd.jupyter.widget-view+json": {
       "model_id": "d204926524844f41ad0845070378fdeb",
       "version_major": 2,
       "version_minor": 0
      },
      "text/plain": [
       "model-00001-of-00003.safetensors:   0%|          | 0.00/4.97G [00:00<?, ?B/s]"
      ]
     },
     "metadata": {},
     "output_type": "display_data"
    },
    {
     "data": {
      "application/vnd.jupyter.widget-view+json": {
       "model_id": "d1039e4bc5fe46dfb74679934df79f3f",
       "version_major": 2,
       "version_minor": 0
      },
      "text/plain": [
       "model-00002-of-00003.safetensors:   0%|          | 0.00/4.95G [00:00<?, ?B/s]"
      ]
     },
     "metadata": {},
     "output_type": "display_data"
    },
    {
     "data": {
      "application/vnd.jupyter.widget-view+json": {
       "model_id": "9ee3011f55084287aa877ddbf88b7987",
       "version_major": 2,
       "version_minor": 0
      },
      "text/plain": [
       "model-00003-of-00003.safetensors:   0%|          | 0.00/1.15G [00:00<?, ?B/s]"
      ]
     },
     "metadata": {},
     "output_type": "display_data"
    },
    {
     "name": "stderr",
     "output_type": "stream",
     "text": [
      "The fast path is not available because on of `(selective_state_update, selective_scan_fn, causal_conv1d_fn, causal_conv1d_update, mamba_inner_fn)` is None. Falling back to the naive implementation. To install follow https://github.com/state-spaces/mamba/#installation and https://github.com/Dao-AILab/causal-conv1d\n"
     ]
    },
    {
     "data": {
      "application/vnd.jupyter.widget-view+json": {
       "model_id": "559bc3fceaed4dfc84e531994bb97204",
       "version_major": 2,
       "version_minor": 0
      },
      "text/plain": [
       "Loading checkpoint shards:   0%|          | 0/3 [00:00<?, ?it/s]"
      ]
     },
     "metadata": {},
     "output_type": "display_data"
    },
    {
     "data": {
      "application/vnd.jupyter.widget-view+json": {
       "model_id": "1cc27aff993245edbb34044911a101e8",
       "version_major": 2,
       "version_minor": 0
      },
      "text/plain": [
       "generation_config.json:   0%|          | 0.00/137 [00:00<?, ?B/s]"
      ]
     },
     "metadata": {},
     "output_type": "display_data"
    }
   ],
   "source": [
    "model = MambaForCausalLM.from_pretrained(f\"state-spaces/mamba-{model_size}-hf\").to(device)"
   ]
  },
  {
   "cell_type": "code",
   "execution_count": 12,
   "metadata": {},
   "outputs": [
    {
     "name": "stderr",
     "output_type": "stream",
     "text": [
      "Special tokens have been added in the vocabulary, make sure the associated word embeddings are fine-tuned or trained.\n"
     ]
    }
   ],
   "source": [
    "tokenizer = AutoTokenizer.from_pretrained(\"state-spaces/mamba-370m-hf\")"
   ]
  },
  {
   "cell_type": "code",
   "execution_count": 13,
   "metadata": {},
   "outputs": [],
   "source": [
    "encodings = tokenizer(dataset[\"test\"][\"Text\"], return_tensors= \"pt\", padding=True)"
   ]
  },
  {
   "cell_type": "code",
   "execution_count": 14,
   "metadata": {},
   "outputs": [
    {
     "name": "stderr",
     "output_type": "stream",
     "text": [
      "/home/itrujillo/.local/lib/python3.9/site-packages/huggingface_hub/file_download.py:1132: FutureWarning: `resume_download` is deprecated and will be removed in version 1.0.0. Downloads always resume when possible. If you want to force a new download, use `force_download=True`.\n",
      "  warnings.warn(\n"
     ]
    },
    {
     "data": {
      "text/plain": [
       "({'architectures': ['MambaForCausalLM'],\n",
       "  'bos_token_id': 0,\n",
       "  'conv_kernel': 4,\n",
       "  'd_inner': 160,\n",
       "  'd_model': 1024,\n",
       "  'dt_rank': 'auto',\n",
       "  'eos_token_id': 0,\n",
       "  'expand': 2,\n",
       "  'fused_add_norm': True,\n",
       "  'hidden_act': 'silu',\n",
       "  'hidden_size': 1024,\n",
       "  'initializer_range': 0.1,\n",
       "  'intermediate_size': 2048,\n",
       "  'layer_norm_epsilon': 1e-05,\n",
       "  'model_type': 'mamba',\n",
       "  'n_layer': 48,\n",
       "  'num_hidden_layers': 48,\n",
       "  'pad_token_id': 0,\n",
       "  'pad_vocab_size_multiple': 8,\n",
       "  'rescale_prenorm_residual': False,\n",
       "  'residual_in_fp32': True,\n",
       "  'rms_norm': True,\n",
       "  'ssm_cfg': {},\n",
       "  'state_size': 16,\n",
       "  'time_step_floor': 0.0001,\n",
       "  'time_step_init_scheme': 'random',\n",
       "  'time_step_max': 0.1,\n",
       "  'time_step_min': 0.001,\n",
       "  'time_step_rank': 64,\n",
       "  'time_step_scale': 1.0,\n",
       "  'torch_dtype': 'float32',\n",
       "  'transformers_version': '4.39.0.dev0',\n",
       "  'use_bias': False,\n",
       "  'use_cache': True,\n",
       "  'use_conv_bias': True,\n",
       "  'vocab_size': 50280,\n",
       "  '_commit_hash': 'b519127f5bfaaa1c27dd938dad051ec360972b23'},\n",
       " {})"
      ]
     },
     "execution_count": 14,
     "metadata": {},
     "output_type": "execute_result"
    }
   ],
   "source": [
    "model.config.get_config_dict(\"state-spaces/mamba-370m-hf\")"
   ]
  },
  {
   "cell_type": "code",
   "execution_count": 15,
   "metadata": {},
   "outputs": [],
   "source": [
    "perplexity = load(\"perplexity\", module_type=\"metric\")"
   ]
  },
  {
   "cell_type": "code",
   "execution_count": 16,
   "metadata": {},
   "outputs": [],
   "source": [
    "predictions = []\n",
    "with torch.no_grad():\n",
    "    for text in dataset[\"test\"][\"Text\"]:\n",
    "        encodings = tokenizer(text, return_tensors= \"pt\", padding=True)\n",
    "        input_ids = encodings.input_ids.to(device)\n",
    "        outputs = model(input_ids)\n",
    "        p = tokenizer.decode(outputs.logits.argmax(dim=-1)[0], skip_special_tokens=True)\n",
    "        predictions.append(p)"
   ]
  },
  {
   "cell_type": "code",
   "execution_count": 17,
   "metadata": {},
   "outputs": [
    {
     "data": {
      "text/plain": [
       "\"TRANIO:\\nIs this your speeding? nay, then, good night our part!\\n\\nPETRUCHIO:\\nBe patient, gentlemen; I choose her for myself:\\nIf she and I be pleased, what's that to you?\\n'Tis bargain'd 'twixt us twain, being alone,\\nThat she shall still be curst in company.\\nI tell you, 'tis incredible to believe\\nHow much she loves me: O, the kindest Kate!\\nShe hung about my neck; and kiss on kiss\\nShe vied so fast, protesting oath on oath,\\nThat in a twink she won me to her love.\\nO, you are novices! 'tis a world to see,\\nHow tame, when men and women are alone,\\nA meacock wretch can make the curstest shrew.\\nGive me thy hand, Kate: I will unto Venice,\\nTo buy apparel 'gainst the wedding-day.\\nProvide the feast, father, and bid the guests;\\nI will be sure my Katharina shall be fine.\\n\\nBAPTISTA:\\nI know not what to say: but give me your hands;\\nGod send you joy, Petruchio! 'tis a match.\\n\\nGREMIO:\\nAmen, say we: we will be witnesses.\\n\\nPETRUCHIO:\\nFather, and wife, and gentlemen, adieu;\\nI will to Venice; Sunday comes apace:\\nWe will have rings and things and fine array;\\nAnd kiss me, Kate, we will be married o'Sunday.\\n\\nGREMIO:\\nWas ever match clapp'd up so suddenly?\\n\\nBAPTISTA:\\nFaith, gentlemen, now I play a merchant's part,\\nAnd venture madly on a desperate mart.\\n\\nTRANIO:\\n'Twas a commodity lay fretting by you:\\n'Twill bring you gain, or perish on the seas.\\n\\nBAPTISTA:\\nThe gain I seek is, quiet in the match.\\n\\nGREMIO:\\nNo doubt but he hath got a quiet catch.\\nBut now, Baptists, to your younger daughter:\\nNow is the day we long have looked for:\\nI am your neighbour, and was suitor first.\\n\\nTRANIO:\\nAnd I am one that love Bianca more\\nThan words can witness, or your thoughts can guess.\\n\\nGREMIO:\\nYoungling, thou canst not love so dear as I.\\n\\nTRANIO:\\nGraybeard, thy love doth freeze.\\n\\nGREMIO:\\nBut thine doth fry.\\nSkipper, stand back: 'tis age that nourisheth.\\n\\nTRANIO:\\nBut youth in ladies' eyes that flourisheth.\\n\\nBAPTISTA:\\nContent you, gentlemen: I will compound this strife:\\n'Tis deeds must win the prize; and he of both\\nThat can assure my daughter greatest dower\\nShall have my Bianca's love.\\nSay, Signior Gremio, What can you assure her?\\n\\nGREMIO:\\nFirst, as you know, my house within the city\\nIs richly furnished with plate and gold;\\nBasins and ewers to lave her dainty hands;\\nMy hangings all of Tyrian tapestry;\\nIn ivory coffers I have stuff'd my crowns;\\nIn cypress chests my arras counterpoints,\\nCostly apparel, tents, and canopies,\\nFine linen, Turkey cushions boss'd with pearl,\\nValance of Venice gold in needlework,\\nPewter and brass and all things that belong\\nTo house or housekeeping: then, at my farm\\nI have a hundred milch-kine to the pail,\\nSixscore fat oxen standing in my stalls,\\nAnd all things answerable to this portion.\\nMyself am struck in years, I must confess;\\nAnd if I die to-morrow, this is hers,\\nIf whilst I live she will be only mine.\\n\\nTRANIO:\\nThat 'only' came well in.\""
      ]
     },
     "execution_count": 17,
     "metadata": {},
     "output_type": "execute_result"
    }
   ],
   "source": [
    "dataset[\"test\"][\"Text\"][0]"
   ]
  },
  {
   "cell_type": "code",
   "execution_count": 18,
   "metadata": {},
   "outputs": [
    {
     "data": {
      "text/plain": [
       "\"SP: I\\n it the son,\\nay, I, I my.\\ning\\n\\nLRUCHIO:\\nI not, sir, I will you for my.\\nShe you will I do well, all needs that to you?\\n\\nTis not'd,twixt us,ain, and so,\\nAnd she shall be be yoursst, company.\\n\\n'll you, sirtis a to think,How many this is me, she,'heavens creature creature!\\n\\n loves about my neck, she kiss'd kiss\\nShe castied upon fast, I oath on oath,\\nThat I a twink she won me to her mind.\\n\\n, she are wellices in youT not world to see\\n\\nHow soon and how once are women come alone,\\nThe womanwedock wretch, make a verstest shrew!\\n\\n me a hand, Pet: I will make my,\\nAnd visit apparel forgainst our time-day.\\n\\nide thy feast, and, and I the guests:\\nI'll be there to Katearineina be be\\n.\\n\\nKAPTISTA:\\nI'll not what to say; I fare your leave hand,\\nAnd give you joy, andruchio!\\ntis a match.\\n\\nPETMIO:\\nImen, amen I; and'll be witnesses.\\n\\nPETRUCHIO:\\nI, I you, and friends, adieu!\\nI must to Venice, and is apace.\\nI'll be rings, things to fine array,\\nAnd then the, Kate, and'll be married soon' Sunday.\\n\\nBMIO:\\nI ever match clapp'd up so suddenly?\\n\\nPETAPTISTA:\\nIith, I, I I have the country well part:\\nAnd I allly for a strange w.\\n\\nPETIO:\\nITis ever good youethted in,,\\nITis be you gain, and elseish in the seas.\\n\\nPETAPTISTA:\\nI world is care is in to in my state;\\n\\nPETMIO:\\nI,, you will found a gentle wife.\\n\\n,, Petista, I church work brother.\\nI, the time of talk have look for,\\nCome pray a man, and will neveritor first\\n\\n\\nBIO:\\nI I am yours that have herca de\\nThan any can utter, or discourse hearing can think.\\n\\nBMIO:\\nI men, I speakst not love her far as I.\\n\\nTRANIO:\\nI hairsard, thou love isoth w in\\n\\nGREMIO:\\nI mineine isoth burn.\\n\\nawpper, I off; Itis time to makesisheth love\\n\\nTRANIO:\\nI youth that love' eyes is disheth.\\n\\nGREAPTISTA:\\nI you, gentlemen: I will be\\n.ife.\\nITis a, make the day, and I that you\\nThat shall do Bian daughter of joyower,Shall have her daughterca. love and\\n\\n, fatherior Gremio, what's you do??\\n\\nGREMIO:\\nWhy, sir I know, my house is the walls\\nIs largely furnish, all and gold;\\nAndins, ewers, washve her handsainty hands;\\nS bedsings, of Tyrian tapestry;\\nMy sumory coffers my have rich'd my platens,\\nAnd mypress chests my spicesas,points;\\nAndly andarel, and, and canopies;\\nAnd linen, and cushions,'d with pearl,\\nAndance of Venice gold, needlework;\\nAndureter and brass, e the need belong\\nTo thekeeping householdkeeping: all my to my house\\nI have a hundred fatch-kine, supply plail,\\nAnd score fat oxen, in the stalls,\\nAnd store things elseable to my wealth.\\n\\nyself, olden years, and must confess,\\nBut therefore Bian live before-morrow, she is all.\\nAnd she I live it please not rul mine.\\n\\nTRANIO:\\nAnd'ss hers is too in,\\n\""
      ]
     },
     "execution_count": 18,
     "metadata": {},
     "output_type": "execute_result"
    }
   ],
   "source": [
    "predictions[0]"
   ]
  },
  {
   "cell_type": "code",
   "execution_count": 19,
   "metadata": {},
   "outputs": [
    {
     "data": {
      "application/vnd.jupyter.widget-view+json": {
       "model_id": "55e67ca09cdb48adacb6b34d08b189b2",
       "version_major": 2,
       "version_minor": 0
      },
      "text/plain": [
       "  0%|          | 0/4 [00:00<?, ?it/s]"
      ]
     },
     "metadata": {},
     "output_type": "display_data"
    }
   ],
   "source": [
    "results = perplexity.compute(predictions=predictions, model_id='gpt2', add_start_token=False)"
   ]
  },
  {
   "cell_type": "code",
   "execution_count": 20,
   "metadata": {
    "tags": []
   },
   "outputs": [
    {
     "data": {
      "text/plain": [
       "{'perplexities': [238.94775390625,\n",
       "  255.7991485595703,\n",
       "  277.0682373046875,\n",
       "  188.1632537841797,\n",
       "  119.13833618164062,\n",
       "  209.71636962890625,\n",
       "  191.4449005126953,\n",
       "  125.08646392822266,\n",
       "  211.05160522460938,\n",
       "  129.9571990966797,\n",
       "  194.24221801757812,\n",
       "  304.9227294921875,\n",
       "  214.4589385986328,\n",
       "  217.24822998046875,\n",
       "  283.9491271972656,\n",
       "  185.73526000976562,\n",
       "  184.69346618652344,\n",
       "  231.74755859375,\n",
       "  151.3889923095703,\n",
       "  181.18544006347656,\n",
       "  281.0938415527344,\n",
       "  158.6200408935547,\n",
       "  85.45830535888672,\n",
       "  210.49923706054688,\n",
       "  223.92263793945312,\n",
       "  195.72096252441406,\n",
       "  125.21846771240234,\n",
       "  132.5686492919922,\n",
       "  140.87266540527344,\n",
       "  103.31908416748047,\n",
       "  163.13876342773438,\n",
       "  75.99039459228516,\n",
       "  179.43064880371094,\n",
       "  206.74925231933594,\n",
       "  278.9527587890625,\n",
       "  163.23159790039062,\n",
       "  200.23837280273438,\n",
       "  316.28955078125,\n",
       "  281.96466064453125,\n",
       "  191.7311248779297,\n",
       "  356.5668029785156,\n",
       "  180.77035522460938,\n",
       "  305.42681884765625,\n",
       "  256.2240905761719,\n",
       "  260.3822937011719,\n",
       "  84.84712982177734,\n",
       "  75.911376953125,\n",
       "  221.1699676513672,\n",
       "  83.45533752441406],\n",
       " 'mean_perplexity': 196.64715140206474}"
      ]
     },
     "execution_count": 20,
     "metadata": {},
     "output_type": "execute_result"
    }
   ],
   "source": [
    "results"
   ]
  },
  {
   "cell_type": "markdown",
   "metadata": {},
   "source": [
    "Resultados perplexity:\n",
    "\n",
    "· Trelis/tiny-shakespeare (test):\n",
    "\n",
    "    130m -> 210.281 points\n",
    "    370m -> 211.817 points\n",
    "    790m -> 215.818 points\n",
    "    1.4b -> 214.880 points\n",
    "    2.8b -> 196.647 points"
   ]
  }
 ],
 "metadata": {
  "kernelspec": {
   "display_name": "Python 3",
   "language": "python",
   "name": "python3"
  },
  "language_info": {
   "codemirror_mode": {
    "name": "ipython",
    "version": 3
   },
   "file_extension": ".py",
   "mimetype": "text/x-python",
   "name": "python",
   "nbconvert_exporter": "python",
   "pygments_lexer": "ipython3",
   "version": "3.9.2"
  }
 },
 "nbformat": 4,
 "nbformat_minor": 4
}
