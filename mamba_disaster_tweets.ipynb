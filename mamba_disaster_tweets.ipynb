{
 "cells": [
  {
   "cell_type": "code",
   "execution_count": 31,
   "metadata": {},
   "outputs": [],
   "source": [
    "import torch\n",
    "import torchvision\n",
    "from mamba_ssm import Mamba\n",
    "from sklearn.model_selection import train_test_split\n",
    "from sklearn.metrics import f1_score\n",
    "import pandas as pd\n",
    "import numpy as np\n",
    "from transformers import BertTokenizer\n",
    "import spacy"
   ]
  },
  {
   "cell_type": "code",
   "execution_count": 11,
   "metadata": {},
   "outputs": [],
   "source": [
    "nlp = spacy.load('en_core_web_sm')"
   ]
  },
  {
   "cell_type": "code",
   "execution_count": 4,
   "metadata": {},
   "outputs": [],
   "source": [
    "data = pd.read_csv('data/disaster_tweets/train.csv')"
   ]
  },
  {
   "cell_type": "code",
   "execution_count": 5,
   "metadata": {},
   "outputs": [
    {
     "data": {
      "text/html": [
       "<div>\n",
       "<style scoped>\n",
       "    .dataframe tbody tr th:only-of-type {\n",
       "        vertical-align: middle;\n",
       "    }\n",
       "\n",
       "    .dataframe tbody tr th {\n",
       "        vertical-align: top;\n",
       "    }\n",
       "\n",
       "    .dataframe thead th {\n",
       "        text-align: right;\n",
       "    }\n",
       "</style>\n",
       "<table border=\"1\" class=\"dataframe\">\n",
       "  <thead>\n",
       "    <tr style=\"text-align: right;\">\n",
       "      <th></th>\n",
       "      <th>id</th>\n",
       "      <th>keyword</th>\n",
       "      <th>location</th>\n",
       "      <th>text</th>\n",
       "      <th>target</th>\n",
       "    </tr>\n",
       "  </thead>\n",
       "  <tbody>\n",
       "    <tr>\n",
       "      <th>0</th>\n",
       "      <td>1</td>\n",
       "      <td>NaN</td>\n",
       "      <td>NaN</td>\n",
       "      <td>Our Deeds are the Reason of this #earthquake M...</td>\n",
       "      <td>1</td>\n",
       "    </tr>\n",
       "    <tr>\n",
       "      <th>1</th>\n",
       "      <td>4</td>\n",
       "      <td>NaN</td>\n",
       "      <td>NaN</td>\n",
       "      <td>Forest fire near La Ronge Sask. Canada</td>\n",
       "      <td>1</td>\n",
       "    </tr>\n",
       "    <tr>\n",
       "      <th>2</th>\n",
       "      <td>5</td>\n",
       "      <td>NaN</td>\n",
       "      <td>NaN</td>\n",
       "      <td>All residents asked to 'shelter in place' are ...</td>\n",
       "      <td>1</td>\n",
       "    </tr>\n",
       "    <tr>\n",
       "      <th>3</th>\n",
       "      <td>6</td>\n",
       "      <td>NaN</td>\n",
       "      <td>NaN</td>\n",
       "      <td>13,000 people receive #wildfires evacuation or...</td>\n",
       "      <td>1</td>\n",
       "    </tr>\n",
       "    <tr>\n",
       "      <th>4</th>\n",
       "      <td>7</td>\n",
       "      <td>NaN</td>\n",
       "      <td>NaN</td>\n",
       "      <td>Just got sent this photo from Ruby #Alaska as ...</td>\n",
       "      <td>1</td>\n",
       "    </tr>\n",
       "  </tbody>\n",
       "</table>\n",
       "</div>"
      ],
      "text/plain": [
       "   id keyword location                                               text  \\\n",
       "0   1     NaN      NaN  Our Deeds are the Reason of this #earthquake M...   \n",
       "1   4     NaN      NaN             Forest fire near La Ronge Sask. Canada   \n",
       "2   5     NaN      NaN  All residents asked to 'shelter in place' are ...   \n",
       "3   6     NaN      NaN  13,000 people receive #wildfires evacuation or...   \n",
       "4   7     NaN      NaN  Just got sent this photo from Ruby #Alaska as ...   \n",
       "\n",
       "   target  \n",
       "0       1  \n",
       "1       1  \n",
       "2       1  \n",
       "3       1  \n",
       "4       1  "
      ]
     },
     "execution_count": 5,
     "metadata": {},
     "output_type": "execute_result"
    }
   ],
   "source": [
    "data.head()"
   ]
  },
  {
   "cell_type": "code",
   "execution_count": 6,
   "metadata": {},
   "outputs": [
    {
     "data": {
      "text/plain": [
       "(7613, 5)"
      ]
     },
     "execution_count": 6,
     "metadata": {},
     "output_type": "execute_result"
    }
   ],
   "source": [
    "data.shape"
   ]
  },
  {
   "cell_type": "code",
   "execution_count": 12,
   "metadata": {},
   "outputs": [
    {
     "data": {
      "text/plain": [
       "(7613, 96)"
      ]
     },
     "execution_count": 12,
     "metadata": {},
     "output_type": "execute_result"
    }
   ],
   "source": [
    "with nlp.disable_pipes():\n",
    "    text_embeddings = np.array([nlp(text).vector for text in data[\"text\"]])\n",
    "text_embeddings.shape"
   ]
  },
  {
   "cell_type": "code",
   "execution_count": 15,
   "metadata": {},
   "outputs": [
    {
     "data": {
      "text/plain": [
       "(7613, 96, 1)"
      ]
     },
     "execution_count": 15,
     "metadata": {},
     "output_type": "execute_result"
    }
   ],
   "source": [
    "text_embeddings = text_embeddings.reshape(-1, 96, 1)\n",
    "text_embeddings.shape"
   ]
  },
  {
   "cell_type": "code",
   "execution_count": 16,
   "metadata": {},
   "outputs": [],
   "source": [
    "X_train, X_test, y_train, y_test = train_test_split(text_embeddings, data[\"target\"], test_size=0.2, random_state=42)"
   ]
  },
  {
   "cell_type": "code",
   "execution_count": 23,
   "metadata": {},
   "outputs": [],
   "source": [
    "y_train = y_train.to_numpy().reshape(-1, 1)\n",
    "y_test = y_test.to_numpy().reshape(-1, 1)"
   ]
  },
  {
   "cell_type": "code",
   "execution_count": 24,
   "metadata": {},
   "outputs": [
    {
     "data": {
      "text/plain": [
       "(6090, 1)"
      ]
     },
     "execution_count": 24,
     "metadata": {},
     "output_type": "execute_result"
    }
   ],
   "source": [
    "y_train.shape"
   ]
  },
  {
   "cell_type": "code",
   "execution_count": 25,
   "metadata": {},
   "outputs": [],
   "source": [
    "train_loader = torch.utils.data.DataLoader(dataset=torch.utils.data.TensorDataset(torch.tensor(X_train), torch.tensor(y_train)), batch_size=32, shuffle=True)\n",
    "val_loader = torch.utils.data.DataLoader(dataset=torch.utils.data.TensorDataset(torch.tensor(X_test), torch.tensor(y_test)), batch_size=32, shuffle=True)"
   ]
  },
  {
   "cell_type": "code",
   "execution_count": 26,
   "metadata": {},
   "outputs": [],
   "source": [
    "model = Mamba(\n",
    "    # This module uses roughly 3 * expand * d_model^2 parameters\n",
    "    d_model=1, # Model dimension d_model\n",
    "    d_state=16,  # SSM state expansion factor\n",
    "    d_conv=4,    # Local convolution width\n",
    "    expand=2,    # Block expansion factor\n",
    ").to(\"cuda\")"
   ]
  },
  {
   "cell_type": "code",
   "execution_count": 27,
   "metadata": {},
   "outputs": [],
   "source": [
    "optimizer = torch.optim.Adam(model.parameters(), lr=1e-3)"
   ]
  },
  {
   "cell_type": "code",
   "execution_count": 29,
   "metadata": {},
   "outputs": [
    {
     "name": "stdout",
     "output_type": "stream",
     "text": [
      "Epoch 1, Training Loss: 4.564115948702028,Validation loss:4.570182998975118\n",
      "Epoch 2, Training Loss: 4.565161073395095,Validation loss:4.570032795270284\n",
      "Epoch 3, Training Loss: 4.565259519047762,Validation loss:4.570391496022542\n",
      "Epoch 4, Training Loss: 4.56471732024747,Validation loss:4.569980452458064\n",
      "Epoch 5, Training Loss: 4.564972924936504,Validation loss:4.567366222540538\n",
      "Epoch 6, Training Loss: 4.56478745775073,Validation loss:4.570167571306229\n",
      "Epoch 7, Training Loss: 4.565071006095846,Validation loss:4.567692776521047\n",
      "Epoch 8, Training Loss: 4.5644649061232965,Validation loss:4.56870374083519\n",
      "Epoch 9, Training Loss: 4.564397177771124,Validation loss:4.566272348165512\n",
      "Epoch 10, Training Loss: 4.5646518487580785,Validation loss:4.567552576462428\n",
      "Epoch 11, Training Loss: 4.564378106781326,Validation loss:4.5669393340746565\n",
      "Epoch 12, Training Loss: 4.564309372327715,Validation loss:4.567978203296661\n",
      "Epoch 13, Training Loss: 4.564571597813312,Validation loss:4.568010479211807\n",
      "Epoch 14, Training Loss: 4.564151988603681,Validation loss:4.567517310380936\n",
      "Epoch 15, Training Loss: 4.564044033669677,Validation loss:4.567989935477574\n",
      "Epoch 16, Training Loss: 4.564090606429814,Validation loss:4.568465858697891\n",
      "Epoch 17, Training Loss: 4.563868048303414,Validation loss:4.567355851332347\n",
      "Epoch 18, Training Loss: 4.564041267514853,Validation loss:4.5680349469184875\n",
      "Epoch 19, Training Loss: 4.564209893111784,Validation loss:4.568557629982631\n",
      "Epoch 20, Training Loss: 4.56399612526619,Validation loss:4.567904094854991\n",
      "Epoch 21, Training Loss: 4.56411992068066,Validation loss:4.567040731509526\n",
      "Epoch 22, Training Loss: 4.563959878152578,Validation loss:4.567911912997563\n",
      "Epoch 23, Training Loss: 4.564099211967428,Validation loss:4.56745845079422\n",
      "Epoch 24, Training Loss: 4.5637805374505005,Validation loss:4.567488312721252\n",
      "Epoch 25, Training Loss: 4.563983001009956,Validation loss:4.567012161016464\n",
      "Epoch 26, Training Loss: 4.5638216852517655,Validation loss:4.566984643538793\n",
      "Epoch 27, Training Loss: 4.563991688933048,Validation loss:4.56750409801801\n",
      "Epoch 28, Training Loss: 4.563718438772631,Validation loss:4.566955516735713\n",
      "Epoch 29, Training Loss: 4.563968620999321,Validation loss:4.567008425792058\n",
      "Epoch 30, Training Loss: 4.563565017041111,Validation loss:4.566979080438614\n"
     ]
    }
   ],
   "source": [
    "# Function to Train the Model\n",
    "def train_model(model, train_loader, val_loader, optimizer, device, num_epochs):\n",
    "    # Loop through the specified number of epochs\n",
    "    for epoch in range(num_epochs):\n",
    "        # Set the model to training mode\n",
    "        model.train()\n",
    "        # Initialize total loss for the current epoch\n",
    "        total_loss = 0\n",
    "\n",
    "        # Loop through the batches in the training data\n",
    "        for batch in train_loader:\n",
    "            inputs, labels = [t.to(device) for t in batch]\n",
    "            \n",
    "            # Zero the gradients\n",
    "            optimizer.zero_grad()\n",
    "            # Perform forward pass\n",
    "            outputs = model(inputs)\n",
    "            # Compute the loss\n",
    "            loss = torch.nn.functional.cross_entropy(outputs, labels)\n",
    "            # Perform backward pass\n",
    "            loss.backward()\n",
    "            optimizer.step()\n",
    "            \n",
    "            total_loss += loss.item()\n",
    "\n",
    "        model.eval()  # Set the model to evaluation mode\n",
    "        val_loss = 0\n",
    "        # Disable gradient computation during validation\n",
    "        with torch.no_grad():\n",
    "            for batch in val_loader:\n",
    "                inputs, labels = [t.to(device) for t in batch]\n",
    "                outputs = model(inputs)\n",
    "                loss = torch.nn.functional.binary_cross_entropy(outputs, labels)\n",
    "                val_loss += loss.item()\n",
    "                \n",
    "        # Print the average loss for the current epoch\n",
    "        print(\n",
    "            f'Epoch {epoch+1}, Training Loss: {total_loss/len(train_loader)},Validation loss:{val_loss/len(val_loader)}')\n",
    "\n",
    "\n",
    "# Call the function to train the model\n",
    "train_model(model, train_loader, val_loader, optimizer, \"cuda\", num_epochs=30)"
   ]
  },
  {
   "cell_type": "code",
   "execution_count": 33,
   "metadata": {},
   "outputs": [],
   "source": [
    "y_pred = model(torch.tensor(X_test).to(\"cuda\")).argmax(dim=1).cpu().numpy()"
   ]
  },
  {
   "cell_type": "code",
   "execution_count": 34,
   "metadata": {},
   "outputs": [
    {
     "data": {
      "text/plain": [
       "0.0"
      ]
     },
     "execution_count": 34,
     "metadata": {},
     "output_type": "execute_result"
    }
   ],
   "source": [
    "f1_score(y_test, y_pred)"
   ]
  }
 ],
 "metadata": {
  "kernelspec": {
   "display_name": "venv",
   "language": "python",
   "name": "python3"
  },
  "language_info": {
   "codemirror_mode": {
    "name": "ipython",
    "version": 3
   },
   "file_extension": ".py",
   "mimetype": "text/x-python",
   "name": "python",
   "nbconvert_exporter": "python",
   "pygments_lexer": "ipython3",
   "version": "3.10.12"
  }
 },
 "nbformat": 4,
 "nbformat_minor": 2
}
