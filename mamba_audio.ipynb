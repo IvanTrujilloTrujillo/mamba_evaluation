{
 "cells": [
  {
   "cell_type": "code",
   "execution_count": null,
   "metadata": {},
   "outputs": [],
   "source": [
    "import torch\n",
    "import torchaudio\n",
    "from mamba_ssm import Mamba\n",
    "from sklearn.model_selection import train_test_split\n",
    "from sklearn.metrics import f1_score\n",
    "import pandas as pd\n",
    "import numpy as np\n",
    "import os\n",
    "import IPython.display as ipd\n",
    "import librosa"
   ]
  },
  {
   "cell_type": "code",
   "execution_count": null,
   "metadata": {},
   "outputs": [],
   "source": [
    "len(os.listdir('data/youtubemix/piano'))"
   ]
  },
  {
   "cell_type": "code",
   "execution_count": null,
   "metadata": {},
   "outputs": [],
   "source": [
    "fname = 'data/youtubemix/piano/0.wav'   # Raindrop\n",
    "ipd.Audio(fname)"
   ]
  },
  {
   "cell_type": "code",
   "execution_count": null,
   "metadata": {},
   "outputs": [],
   "source": [
    "data, _ = librosa.core.load('data/youtubemix/piano/0.wav', sr=96000, res_type='kaiser_fast')"
   ]
  },
  {
   "cell_type": "code",
   "execution_count": null,
   "metadata": {},
   "outputs": [],
   "source": [
    "data[100000:100010]"
   ]
  },
  {
   "cell_type": "code",
   "execution_count": null,
   "metadata": {},
   "outputs": [],
   "source": [
    "data.shape"
   ]
  },
  {
   "cell_type": "code",
   "execution_count": null,
   "metadata": {},
   "outputs": [],
   "source": [
    "# DataGenerator class to load .wav files with librosa and return a PyTorch tensor loaded in cuda in batches\n",
    "class DataGenerator(torch.utils.data.Dataset):\n",
    "    def __init__(self, files, sr=96000):\n",
    "        self.files = files\n",
    "        self.sr = sr\n",
    "\n",
    "    def __len__(self):\n",
    "        return len(self.files)\n",
    "\n",
    "    def __getitem__(self, idx):\n",
    "        data, _ = librosa.core.load(self.files[idx], sr=self.sr, res_type='kaiser_fast')\n",
    "        return torch.tensor(data, dtype=torch.float32).to(\"cuda\")"
   ]
  },
  {
   "cell_type": "code",
   "execution_count": null,
   "metadata": {},
   "outputs": [],
   "source": [
    "# DataLoader to load torch tensors in batches\n",
    "def get_dataloader(files, batch_size=8):\n",
    "    dataset = DataGenerator(files)\n",
    "    return torch.utils.data.DataLoader(dataset, batch_size=batch_size, shuffle=True)\n",
    "\n",
    "# Load all .wav files in the directory\n",
    "files = ['data/youtubemix/piano/' + f for f in os.listdir('data/youtubemix/piano') if f.endswith('.wav')]\n",
    "train_files, test_files = train_test_split(files, test_size=0.2)\n",
    "\n",
    "train_loader = get_dataloader(train_files)\n",
    "test_loader = get_dataloader(test_files)"
   ]
  },
  {
   "cell_type": "code",
   "execution_count": null,
   "metadata": {},
   "outputs": [],
   "source": [
    "# Define the model\n",
    "model = Mamba(\n",
    "    # This module uses roughly 3 * expand * d_model^2 parameters\n",
    "    d_model=1, # Model dimension d_model\n",
    "    d_state=16,  # SSM state expansion factor\n",
    "    d_conv=4,    # Local convolution width\n",
    "    expand=2,    # Block expansion factor\n",
    ").to(\"cuda\")"
   ]
  },
  {
   "cell_type": "code",
   "execution_count": null,
   "metadata": {},
   "outputs": [],
   "source": [
    "# Define the optimizer\n",
    "optimizer = torch.optim.Adam(model.parameters(), lr=1e-3)"
   ]
  },
  {
   "cell_type": "code",
   "execution_count": null,
   "metadata": {},
   "outputs": [],
   "source": [
    "NUM_EPOCHS = 10"
   ]
  },
  {
   "cell_type": "code",
   "execution_count": null,
   "metadata": {},
   "outputs": [],
   "source": [
    "# Train the model\n",
    "for epoch in range(NUM_EPOCHS):\n",
    "    model.train()\n",
    "    total_loss = 0\n",
    "    for data in train_loader:\n",
    "        data = data.reshape(-1, data.shape[1], 1)\n",
    "        optimizer.zero_grad()\n",
    "        y = model(data)\n",
    "        loss = torch.mean((y - data) ** 2)\n",
    "        optimizer.step()\n",
    "        total_loss += loss.item()\n",
    "    print(f\"Epoch {epoch}: Loss = {total_loss}\")"
   ]
  },
  {
   "cell_type": "code",
   "execution_count": null,
   "metadata": {},
   "outputs": [],
   "source": [
    "# Predict the output for the test data\n",
    "with torch.no_grad():\n",
    "    model.eval()\n",
    "    y_pred = []\n",
    "    y_true = []\n",
    "    for data in test_loader:\n",
    "        data = data.reshape(-1, data.shape[1], 1)\n",
    "        y = model(data)\n",
    "        y_pred.append(y.detach().cpu().numpy())\n",
    "        y_true.append(data.detach().cpu().numpy())\n",
    "    y_pred = np.concatenate(y_pred)\n",
    "    y_true = np.concatenate(y_true)"
   ]
  },
  {
   "cell_type": "code",
   "execution_count": null,
   "metadata": {},
   "outputs": [],
   "source": [
    "# Save model\n",
    "torch.save(model.state_dict(), 'models/audio_mamba_model.pth')"
   ]
  },
  {
   "cell_type": "code",
   "execution_count": null,
   "metadata": {},
   "outputs": [],
   "source": [
    "# Load model\n",
    "model_loaded = Mamba(\n",
    "    d_model=1,\n",
    "    d_state=16,\n",
    "    d_conv=4,\n",
    "    expand=2\n",
    ").to(\"cuda\")\n",
    "model_loaded.load_state_dict(torch.load('models/audio_mamba_model.pth'))"
   ]
  },
  {
   "cell_type": "code",
   "execution_count": null,
   "metadata": {},
   "outputs": [],
   "source": [
    "# Predict the output for the test data\n",
    "with torch.no_grad():\n",
    "    model_loaded.eval()\n",
    "    y_pred = []\n",
    "    y_true = []\n",
    "    for data in test_loader:\n",
    "        data = data.reshape(-1, data.shape[1], 1)\n",
    "        y = model_loaded(data)\n",
    "        y_pred.append(y.detach().cpu().numpy())\n",
    "        y_true.append(data.detach().cpu().numpy())\n",
    "    y_pred = np.concatenate(y_pred)\n",
    "    y_true = np.concatenate(y_true)"
   ]
  },
  {
   "cell_type": "code",
   "execution_count": null,
   "metadata": {},
   "outputs": [],
   "source": [
    "y_pred[0].shape"
   ]
  },
  {
   "cell_type": "code",
   "execution_count": null,
   "metadata": {},
   "outputs": [],
   "source": [
    "torchaudio.save('data/youtubemix/output.wav', torch.tensor(y_pred[0], dtype=torch.float32), 96000)"
   ]
  },
  {
   "cell_type": "code",
   "execution_count": null,
   "metadata": {},
   "outputs": [],
   "source": [
    "ipd.Audio('data/youtubemix/output.wav')"
   ]
  }
 ],
 "metadata": {
  "kernelspec": {
   "display_name": "venv",
   "language": "python",
   "name": "python3"
  },
  "language_info": {
   "codemirror_mode": {
    "name": "ipython",
    "version": 3
   },
   "file_extension": ".py",
   "mimetype": "text/x-python",
   "name": "python",
   "nbconvert_exporter": "python",
   "pygments_lexer": "ipython3",
   "version": "3.10.12"
  }
 },
 "nbformat": 4,
 "nbformat_minor": 2
}
